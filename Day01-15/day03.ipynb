{
 "cells": [
  {
   "cell_type": "code",
   "execution_count": 1,
   "metadata": {},
   "outputs": [
    {
     "name": "stdout",
     "output_type": "stream",
     "text": [
      "length = 23\n",
      "unit is cm\n",
      "23.000000 cm = 9.055118 inch\n"
     ]
    }
   ],
   "source": [
    "# Exercise 1\n",
    "value = float(input('length = '))\n",
    "unit = str(input('unit is '))\n",
    "\n",
    "if unit == 'inch':\n",
    "    print('%f inch = %f cm' % (value, value * 2.54))\n",
    "elif unit == 'cm':\n",
    "    print('%f cm = %f inch' % (value, value / 2.54))\n",
    "else:\n",
    "    print('Please enter another unit')"
   ]
  },
  {
   "cell_type": "code",
   "execution_count": 2,
   "metadata": {},
   "outputs": [
    {
     "name": "stdout",
     "output_type": "stream",
     "text": [
      "the score is 96\n",
      "The grade is  A\n"
     ]
    }
   ],
   "source": [
    "# Exercise 2\n",
    "score = float(input('the score is '))\n",
    "if score >= 90:\n",
    "    grade = 'A'\n",
    "elif score >= 80:\n",
    "    grade = 'B'\n",
    "elif score >= 70:\n",
    "    grade = 'C'\n",
    "elif score >= 60:\n",
    "    grade = 'D'\n",
    "else:\n",
    "    grade = 'E'\n",
    "    \n",
    "print('The grade is ', grade)"
   ]
  },
  {
   "cell_type": "code",
   "execution_count": 3,
   "metadata": {},
   "outputs": [
    {
     "name": "stdout",
     "output_type": "stream",
     "text": [
      "a = 5\n",
      "b = 6\n",
      "c = 7\n",
      "perimeter: 18.000000\n",
      "are: 14.696938\n"
     ]
    }
   ],
   "source": [
    "# Exercise 3\n",
    "a = float(input('a = '))\n",
    "b = float(input('b = '))\n",
    "c = float(input('c = '))\n",
    "\n",
    "if a + b > c and a + c > b and b + c > a:\n",
    "    print('perimeter: %f' % (a + b + c))\n",
    "    p = (a + b + c) / 2\n",
    "    area = (p * (p - a) * (p - b) * (p - c)) ** 0.5\n",
    "    print('are: %f' % (area))\n",
    "else:\n",
    "    print('not a triangle')"
   ]
  }
 ],
 "metadata": {
  "kernelspec": {
   "display_name": "Python 3",
   "language": "python",
   "name": "python3"
  },
  "language_info": {
   "codemirror_mode": {
    "name": "ipython",
    "version": 3
   },
   "file_extension": ".py",
   "mimetype": "text/x-python",
   "name": "python",
   "nbconvert_exporter": "python",
   "pygments_lexer": "ipython3",
   "version": "3.7.6"
  }
 },
 "nbformat": 4,
 "nbformat_minor": 2
}
