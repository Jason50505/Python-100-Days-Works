{
 "cells": [
  {
   "cell_type": "code",
   "execution_count": 1,
   "metadata": {},
   "outputs": [],
   "source": [
    "# Use try/except\n",
    "def main():\n",
    "    f = None\n",
    "    try:\n",
    "        f = open('abc.txt', 'r', encoding='utf-8')\n",
    "    except FileNotFoundError:\n",
    "        print('Cannot find the specified file.')\n",
    "    except UnicodeDecodeError:\n",
    "        print('Fail to decode.')\n",
    "    finally:\n",
    "        if f:\n",
    "            f.close()\n",
    "            \n",
    "if __name__ == '__main__':\n",
    "    main()"
   ]
  },
  {
   "cell_type": "code",
   "execution_count": 2,
   "metadata": {},
   "outputs": [
    {
     "name": "stdout",
     "output_type": "stream",
     "text": [
      "line1 line1 line1\n",
      "line2 line2 line2\n",
      "line3 line3 line3\n",
      "line4 line4 line4\n",
      "line5 line5 line5\n",
      "line6 line6 line6\n",
      "line7 line7 line7\n",
      "line8 line8 line8\n",
      "line9 line9 line9\n",
      "line1 line1 line1\n",
      "line2 line2 line2\n",
      "line3 line3 line3\n",
      "line4 line4 line4\n",
      "line5 line5 line5\n",
      "line6 line6 line6\n",
      "line7 line7 line7\n",
      "line8 line8 line8\n",
      "line9 line9 line9\n",
      "['line1 line1 line1\\n', 'line2 line2 line2\\n', 'line3 line3 line3\\n', 'line4 line4 line4\\n', 'line5 line5 line5\\n', 'line6 line6 line6\\n', 'line7 line7 line7\\n', 'line8 line8 line8\\n', 'line9 line9 line9']\n"
     ]
    }
   ],
   "source": [
    "# Try the given example 1\n",
    "# Read in by lines\n",
    "import time\n",
    "\n",
    "def main():\n",
    "    with open('abc.txt', 'r', encoding='utf-8') as f:\n",
    "        print(f.read())\n",
    "\n",
    "    with open('abc.txt', mode='r') as f:\n",
    "        for line in f:\n",
    "            print(line, end='')\n",
    "            time.sleep(0.5)\n",
    "    print()\n",
    "\n",
    "    with open('abc.txt') as f:\n",
    "        lines = f.readlines()\n",
    "    print(lines)\n",
    "    \n",
    "if __name__ == '__main__':\n",
    "    main()"
   ]
  },
  {
   "cell_type": "code",
   "execution_count": 3,
   "metadata": {},
   "outputs": [
    {
     "name": "stdout",
     "output_type": "stream",
     "text": [
      "Writing finished\n"
     ]
    }
   ],
   "source": [
    "# Try the given example 2\n",
    "# Write prime numbers from 1-9999 into three different files\n",
    "from math import sqrt\n",
    "\n",
    "def is_prime(n):\n",
    "    assert n > 0\n",
    "    for factor in range(2, int(sqrt(n)) + 1):\n",
    "        if n % factor == 0:\n",
    "            return False\n",
    "    return True if n != 1 else False\n",
    "\n",
    "\n",
    "def main():\n",
    "    filenames = ('a.txt', 'b.txt', 'c.txt')\n",
    "    fs_list = []\n",
    "    try:\n",
    "        for filename in filenames:\n",
    "            fs_list.append(open(filename, 'w', encoding='utf-8'))\n",
    "        for number in range(1, 10000):\n",
    "            if is_prime(number):\n",
    "                if number < 100:\n",
    "                    fs_list[0].write(str(number) + ' ')\n",
    "                elif number < 1000:\n",
    "                    fs_list[1].write(str(number) + ' ')\n",
    "                else:\n",
    "                    fs_list[2].write(str(number) + ' ')\n",
    "        print('Writing finished')\n",
    "    except:\n",
    "        print('Error occurs!')\n",
    "    finally:\n",
    "        for fs in fs_list:\n",
    "            fs.close()\n",
    "\n",
    "if __name__ == '__main__':\n",
    "    main()"
   ]
  },
  {
   "cell_type": "code",
   "execution_count": 4,
   "metadata": {},
   "outputs": [
    {
     "name": "stdout",
     "output_type": "stream",
     "text": [
      "Cannot open the specified file.\n"
     ]
    }
   ],
   "source": [
    "# Try the given example 3\n",
    "# Read in binary data\n",
    "def main():\n",
    "    try:\n",
    "        with open('read.jpg', 'rb') as f1:\n",
    "            data = f1.read()\n",
    "        with open('write.jpg', 'wb') as f2:\n",
    "            f2.write(data)\n",
    "    except FileNotFoundError:\n",
    "        print('Cannot open the specified file.')\n",
    "    except IOError:\n",
    "        print('Error while wrting.')\n",
    "    \n",
    "if __name__ == '__main__':\n",
    "    main()"
   ]
  },
  {
   "cell_type": "code",
   "execution_count": 5,
   "metadata": {},
   "outputs": [],
   "source": [
    "# Try the given example 4\n",
    "# Write JSON data\n",
    "import json\n",
    "dict1 = {\n",
    "    'a1': 1,\n",
    "    'b2': 'abc',\n",
    "    'c3': ['a', 'b', 'c'],\n",
    "    'd4': [\n",
    "        {'aa1': 1},\n",
    "        {'aa2': 2}\n",
    "    ],\n",
    "    'e5': [1, 2, 3, 4, 5]\n",
    "}\n",
    "\n",
    "with open('tets.json', 'w', encoding='utf-8') as f1:\n",
    "    json.dump(dict1, f1)"
   ]
  },
  {
   "cell_type": "code",
   "execution_count": 6,
   "metadata": {},
   "outputs": [
    {
     "name": "stdout",
     "output_type": "stream",
     "text": [
      "<class 'requests.models.Response'>\n",
      "<Response [200]>\n",
      "<class 'dict'>\n",
      "{'code': 230, 'msg': 'key错误或为空'}\n"
     ]
    }
   ],
   "source": [
    "# Try the given example 5\n",
    "# Use the requests library for HTTP\n",
    "import json\n",
    "import requests\n",
    "\n",
    "def main():\n",
    "    data = requests.get('http://api.tianapi.com/guonei/?key=APIKey&num=10')\n",
    "    data_loaded = json.loads(data.text)\n",
    "    print(type(data))\n",
    "    print(data)\n",
    "    print(type(data_loaded))\n",
    "    print(data_loaded)\n",
    "    \n",
    "if __name__ == '__main__':\n",
    "    main()"
   ]
  }
 ],
 "metadata": {
  "kernelspec": {
   "display_name": "Python 3",
   "language": "python",
   "name": "python3"
  },
  "language_info": {
   "codemirror_mode": {
    "name": "ipython",
    "version": 3
   },
   "file_extension": ".py",
   "mimetype": "text/x-python",
   "name": "python",
   "nbconvert_exporter": "python",
   "pygments_lexer": "ipython3",
   "version": "3.7.6"
  }
 },
 "nbformat": 4,
 "nbformat_minor": 4
}
