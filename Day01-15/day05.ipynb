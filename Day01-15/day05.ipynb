{
 "cells": [
  {
   "cell_type": "code",
   "execution_count": 1,
   "metadata": {},
   "outputs": [],
   "source": [
    "# Exercise 1\n",
    "prev_two = 0\n",
    "prev_one = 1\n",
    "\n",
    "print('Number 1 in the Fibonacci sequence is %d.' % prev_one)\n",
    "\n",
    "for i in range(19):\n",
    "    current = prev_two + prev_one\n",
    "    prev_two = prev_one\n",
    "    prev_one = current\n",
    "    print('Number %d in the Fibonacci sequence is %d.' % (i + 2, current))"
   ]
  },
  {
   "cell_type": "code",
   "execution_count": 2,
   "metadata": {},
   "outputs": [],
   "source": [
    "# Exercise 1-2\n",
    "\n",
    "a = 0\n",
    "b = 1\n",
    "for _ in range(20):\n",
    "    a, b = b, a + b\n",
    "    print(a, end=' ')"
   ]
  },
  {
   "cell_type": "code",
   "execution_count": 3,
   "metadata": {},
   "outputs": [
    {
     "name": "stdout",
     "output_type": "stream",
     "text": [
      "6 is the perfect number.\n",
      "28 is the perfect number.\n",
      "496 is the perfect number.\n",
      "8128 is the perfect number.\n"
     ]
    }
   ],
   "source": [
    "# Exercise 2\n",
    "for num in range(1, 10001):\n",
    "    sum = 0\n",
    "    for i in range(1, num):\n",
    "        if num % i == 0:\n",
    "            sum += i\n",
    "    if sum == num:\n",
    "        print('%d is the perfect number.' % num)"
   ]
  },
  {
   "cell_type": "code",
   "execution_count": 4,
   "metadata": {},
   "outputs": [
    {
     "name": "stdout",
     "output_type": "stream",
     "text": [
      "2 is a prime number.\n",
      "3 is a prime number.\n",
      "5 is a prime number.\n",
      "7 is a prime number.\n",
      "11 is a prime number.\n",
      "13 is a prime number.\n",
      "17 is a prime number.\n",
      "19 is a prime number.\n",
      "23 is a prime number.\n",
      "29 is a prime number.\n",
      "31 is a prime number.\n",
      "37 is a prime number.\n",
      "41 is a prime number.\n",
      "43 is a prime number.\n",
      "47 is a prime number.\n",
      "53 is a prime number.\n",
      "59 is a prime number.\n",
      "61 is a prime number.\n",
      "67 is a prime number.\n",
      "71 is a prime number.\n",
      "73 is a prime number.\n",
      "79 is a prime number.\n",
      "83 is a prime number.\n",
      "89 is a prime number.\n",
      "97 is a prime number.\n"
     ]
    }
   ],
   "source": [
    "# Exercise 3\n",
    "from math import sqrt\n",
    "\n",
    "for num in range(2, 101):\n",
    "    prime = True\n",
    "    for i in range(2, int(sqrt(num)) + 1):\n",
    "        if num % i == 0:\n",
    "            prime = False\n",
    "            break\n",
    "    if prime == True:\n",
    "        print('%d is a prime number.' % num)"
   ]
  }
 ],
 "metadata": {
  "kernelspec": {
   "display_name": "Python 3",
   "language": "python",
   "name": "python3"
  },
  "language_info": {
   "codemirror_mode": {
    "name": "ipython",
    "version": 3
   },
   "file_extension": ".py",
   "mimetype": "text/x-python",
   "name": "python",
   "nbconvert_exporter": "python",
   "pygments_lexer": "ipython3",
   "version": "3.7.6"
  }
 },
 "nbformat": 4,
 "nbformat_minor": 2
}
