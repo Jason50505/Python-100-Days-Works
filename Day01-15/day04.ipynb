{
 "cells": [
  {
   "cell_type": "code",
   "execution_count": 1,
   "metadata": {},
   "outputs": [
    {
     "name": "stdout",
     "output_type": "stream",
     "text": [
      "enter a positive integer:23\n",
      "23 is a prime number.\n"
     ]
    }
   ],
   "source": [
    "# Exercise 1\n",
    "from math import sqrt\n",
    "x = int(input('enter a positive integer:'))\n",
    "x_sqrt = int(sqrt(x))\n",
    "prime = True\n",
    "for num in range(2, x_sqrt + 1):\n",
    "    if x % num == 0:\n",
    "        prime = False\n",
    "        break\n",
    "if prime == True and x != 1:\n",
    "    print('%d is a prime number.' % x)\n",
    "else:\n",
    "    print('%d is not a prime number.' % x)"
   ]
  },
  {
   "cell_type": "code",
   "execution_count": 2,
   "metadata": {},
   "outputs": [
    {
     "name": "stdout",
     "output_type": "stream",
     "text": [
      "enter a integer x = 9\n",
      "enter a integer y = 7\n",
      "The greatest common factor of 9 and 7 is 1.\n",
      "The least common multiple of 9 and 7 is 63.\n"
     ]
    }
   ],
   "source": [
    "# Exercise 2\n",
    "x = int(input('enter a integer x = '))\n",
    "y = int(input('enter a integer y = '))\n",
    "\n",
    "for gcf in range (min(x, y), 0, -1):\n",
    "    if x % gcf == 0 and y % gcf == 0:\n",
    "        print('The greatest common factor of %d and %d is %d.' % (x, y, gcf))\n",
    "        print('The least common multiple of %d and %d is %d.' % (x, y, x * y / gcf))"
   ]
  },
  {
   "cell_type": "code",
   "execution_count": 3,
   "metadata": {},
   "outputs": [
    {
     "name": "stdout",
     "output_type": "stream",
     "text": [
      "*\n",
      "**\n",
      "***\n",
      "****\n",
      "*****\n",
      "    *\n",
      "   **\n",
      "  ***\n",
      " ****\n",
      "*****\n",
      "    *\n",
      "   ***\n",
      "  *****\n",
      " *******\n",
      "*********\n"
     ]
    }
   ],
   "source": [
    "# Exercise 3\n",
    "for i in range(5):\n",
    "    for j in range(i + 1):\n",
    "        print('*', end='')\n",
    "    print()\n",
    "\n",
    "for i in range(5):\n",
    "    for j in range(5):\n",
    "        if j < 5 - 1 - i:\n",
    "            print(' ', end='')\n",
    "        else:\n",
    "            print('*', end='')\n",
    "    print()\n",
    "    \n",
    "for i in range(5):\n",
    "    for j in range(5 - 1 - i):\n",
    "        print(' ', end='')\n",
    "    for k in range(2 * i + 1):\n",
    "        print('*', end='')\n",
    "    print()"
   ]
  }
 ],
 "metadata": {
  "kernelspec": {
   "display_name": "Python 3",
   "language": "python",
   "name": "python3"
  },
  "language_info": {
   "codemirror_mode": {
    "name": "ipython",
    "version": 3
   },
   "file_extension": ".py",
   "mimetype": "text/x-python",
   "name": "python",
   "nbconvert_exporter": "python",
   "pygments_lexer": "ipython3",
   "version": "3.7.6"
  }
 },
 "nbformat": 4,
 "nbformat_minor": 2
}
