{
 "cells": [
  {
   "cell_type": "code",
   "execution_count": 1,
   "metadata": {},
   "outputs": [
    {
     "name": "stdout",
     "output_type": "stream",
     "text": [
      "fahrenheit:72\n",
      "72.0 fahrenheit = 22.2 celsius\n"
     ]
    }
   ],
   "source": [
    "# Exercise 1\n",
    "f = float(input('fahrenheit:'))\n",
    "c = (f - 32) / 1.8\n",
    "print('%.1f fahrenheit = %.1f celsius' % (f, c))"
   ]
  },
  {
   "cell_type": "code",
   "execution_count": 2,
   "metadata": {},
   "outputs": [
    {
     "name": "stdout",
     "output_type": "stream",
     "text": [
      "year is 2004\n",
      "True\n"
     ]
    }
   ],
   "source": [
    "# Exercise 2\n",
    "y = int(input('year is '))\n",
    "leap_year = y%4 == 0 and y%100 != 0 or y%400 == 0\n",
    "print(leap_year)"
   ]
  }
 ],
 "metadata": {
  "kernelspec": {
   "display_name": "Python 3",
   "language": "python",
   "name": "python3"
  },
  "language_info": {
   "codemirror_mode": {
    "name": "ipython",
    "version": 3
   },
   "file_extension": ".py",
   "mimetype": "text/x-python",
   "name": "python",
   "nbconvert_exporter": "python",
   "pygments_lexer": "ipython3",
   "version": "3.7.6"
  }
 },
 "nbformat": 4,
 "nbformat_minor": 2
}
