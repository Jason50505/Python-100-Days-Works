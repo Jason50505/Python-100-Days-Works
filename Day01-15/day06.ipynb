{
 "cells": [
  {
   "cell_type": "code",
   "execution_count": 1,
   "metadata": {},
   "outputs": [
    {
     "data": {
      "text/plain": [
       "(3, 18)"
      ]
     },
     "execution_count": 1,
     "metadata": {},
     "output_type": "execute_result"
    }
   ],
   "source": [
    "# Exercise 1\n",
    "def gcf_lcm(x, y):\n",
    "    for gcf in range (min(x, y), 0, -1):\n",
    "        if x % gcf == 0 and y % gcf == 0:\n",
    "            return(int(gcf), int(x * y / gcf))\n",
    "        \n",
    "gcf_lcm(6, 9)"
   ]
  },
  {
   "cell_type": "code",
   "execution_count": 2,
   "metadata": {},
   "outputs": [
    {
     "data": {
      "text/plain": [
       "True"
      ]
     },
     "execution_count": 2,
     "metadata": {},
     "output_type": "execute_result"
    }
   ],
   "source": [
    "# Exercise 2\n",
    "def is_Palindromic(x):\n",
    "    temp = x\n",
    "    transform = 0\n",
    "    while temp > 0:\n",
    "        transform = transform * 10 + temp % 10\n",
    "        temp //= 10\n",
    "    return transform == x\n",
    "\n",
    "is_Palindromic(12321)"
   ]
  },
  {
   "cell_type": "code",
   "execution_count": 3,
   "metadata": {},
   "outputs": [
    {
     "data": {
      "text/plain": [
       "True"
      ]
     },
     "execution_count": 3,
     "metadata": {},
     "output_type": "execute_result"
    }
   ],
   "source": [
    "# Exercise 3\n",
    "from math import sqrt\n",
    "\n",
    "def is_Prime(x):\n",
    "    x_sqrt = int(sqrt(x))\n",
    "    for num in range(2, x_sqrt + 1):\n",
    "        if x % num == 0:\n",
    "            return False\n",
    "    return True if num != 1 else False\n",
    "\n",
    "is_Prime(23)"
   ]
  },
  {
   "cell_type": "code",
   "execution_count": 4,
   "metadata": {},
   "outputs": [
    {
     "name": "stdout",
     "output_type": "stream",
     "text": [
      "enter a positive integer: 131\n",
      "131 is palindromic and prime.\n"
     ]
    }
   ],
   "source": [
    "# Exercise 4\n",
    "if __name__ == '__main__':\n",
    "    x = int(input('enter a positive integer: '))\n",
    "    if is_Palindromic(x) and is_Prime(x):\n",
    "        print('%d is palindromic and prime.' % x)\n",
    "    else:\n",
    "        print('%d is not palindromic and prime.' % x)"
   ]
  }
 ],
 "metadata": {
  "kernelspec": {
   "display_name": "Python 3",
   "language": "python",
   "name": "python3"
  },
  "language_info": {
   "codemirror_mode": {
    "name": "ipython",
    "version": 3
   },
   "file_extension": ".py",
   "mimetype": "text/x-python",
   "name": "python",
   "nbconvert_exporter": "python",
   "pygments_lexer": "ipython3",
   "version": "3.7.6"
  }
 },
 "nbformat": 4,
 "nbformat_minor": 2
}
