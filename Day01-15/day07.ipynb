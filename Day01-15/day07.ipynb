{
 "cells": [
  {
   "cell_type": "code",
   "execution_count": 1,
   "metadata": {},
   "outputs": [
    {
     "name": "stdout",
     "output_type": "stream",
     "text": [
      "abcdefghijklmnopqrstuvwxyz\n",
      "bcdefghijklmnopqrstuvwxyza\n",
      "cdefghijklmnopqrstuvwxyzab\n",
      "defghijklmnopqrstuvwxyzabc\n",
      "efghijklmnopqrstuvwxyzabcd\n"
     ]
    },
    {
     "ename": "KeyboardInterrupt",
     "evalue": "",
     "output_type": "error",
     "traceback": [
      "\u001b[1;31m---------------------------------------------------------------------------\u001b[0m",
      "\u001b[1;31mKeyboardInterrupt\u001b[0m                         Traceback (most recent call last)",
      "\u001b[1;32m<ipython-input-1-b97c9cd6376c>\u001b[0m in \u001b[0;36m<module>\u001b[1;34m\u001b[0m\n\u001b[0;32m     12\u001b[0m \u001b[1;33m\u001b[0m\u001b[0m\n\u001b[0;32m     13\u001b[0m \u001b[1;32mif\u001b[0m \u001b[0m__name__\u001b[0m \u001b[1;33m==\u001b[0m \u001b[1;34m'__main__'\u001b[0m\u001b[1;33m:\u001b[0m\u001b[1;33m\u001b[0m\u001b[1;33m\u001b[0m\u001b[0m\n\u001b[1;32m---> 14\u001b[1;33m     \u001b[0mmain\u001b[0m\u001b[1;33m(\u001b[0m\u001b[1;33m)\u001b[0m\u001b[1;33m\u001b[0m\u001b[1;33m\u001b[0m\u001b[0m\n\u001b[0m",
      "\u001b[1;32m<ipython-input-1-b97c9cd6376c>\u001b[0m in \u001b[0;36mmain\u001b[1;34m()\u001b[0m\n\u001b[0;32m      8\u001b[0m         \u001b[0mos\u001b[0m\u001b[1;33m.\u001b[0m\u001b[0msystem\u001b[0m\u001b[1;33m(\u001b[0m\u001b[1;34m'cls'\u001b[0m\u001b[1;33m)\u001b[0m  \u001b[1;31m# os.system('clear')\u001b[0m\u001b[1;33m\u001b[0m\u001b[1;33m\u001b[0m\u001b[0m\n\u001b[0;32m      9\u001b[0m         \u001b[0mprint\u001b[0m\u001b[1;33m(\u001b[0m\u001b[0mcontent\u001b[0m\u001b[1;33m)\u001b[0m\u001b[1;33m\u001b[0m\u001b[1;33m\u001b[0m\u001b[0m\n\u001b[1;32m---> 10\u001b[1;33m         \u001b[0mtime\u001b[0m\u001b[1;33m.\u001b[0m\u001b[0msleep\u001b[0m\u001b[1;33m(\u001b[0m\u001b[1;36m1\u001b[0m\u001b[1;33m)\u001b[0m\u001b[1;33m\u001b[0m\u001b[1;33m\u001b[0m\u001b[0m\n\u001b[0m\u001b[0;32m     11\u001b[0m         \u001b[0mcontent\u001b[0m \u001b[1;33m=\u001b[0m \u001b[0mcontent\u001b[0m\u001b[1;33m[\u001b[0m\u001b[1;36m1\u001b[0m\u001b[1;33m:\u001b[0m\u001b[1;33m]\u001b[0m \u001b[1;33m+\u001b[0m \u001b[0mcontent\u001b[0m\u001b[1;33m[\u001b[0m\u001b[1;36m0\u001b[0m\u001b[1;33m]\u001b[0m\u001b[1;33m\u001b[0m\u001b[1;33m\u001b[0m\u001b[0m\n\u001b[0;32m     12\u001b[0m \u001b[1;33m\u001b[0m\u001b[0m\n",
      "\u001b[1;31mKeyboardInterrupt\u001b[0m: "
     ]
    }
   ],
   "source": [
    "# Exercise 1\n",
    "import os\n",
    "import time\n",
    "\n",
    "def main():\n",
    "    content = 'abcdefghijklmnopqrstuvwxyz'\n",
    "    while True:\n",
    "        os.system('cls')  # os.system('clear')\n",
    "        print(content)\n",
    "        time.sleep(1)\n",
    "        content = content[1:] + content[0]\n",
    "\n",
    "if __name__ == '__main__':\n",
    "    main()"
   ]
  },
  {
   "cell_type": "code",
   "execution_count": 2,
   "metadata": {},
   "outputs": [
    {
     "name": "stdout",
     "output_type": "stream",
     "text": [
      "wbepXjrnQ3\n"
     ]
    }
   ],
   "source": [
    "# Exercise 2\n",
    "import random\n",
    "\n",
    "def generate_code(code_len=4):\n",
    "    characters = '0123456789abcdefghijklmnopqrstuvwxyzABCDEFGHIJKLMNOPQRSTUVWXYZ'\n",
    "    length = len(characters) - 1\n",
    "    code = ''\n",
    "    for i in range(code_len):\n",
    "        index = random.randint(0, length)\n",
    "        code += characters[index]\n",
    "    return code\n",
    "\n",
    "if __name__ == '__main__':\n",
    "    print(generate_code(code_len=10))"
   ]
  },
  {
   "cell_type": "code",
   "execution_count": 3,
   "metadata": {},
   "outputs": [
    {
     "name": "stdout",
     "output_type": "stream",
     "text": [
      "txt\n"
     ]
    }
   ],
   "source": [
    "# Exercise 3\n",
    "def get_suffix(filename, has_dot=False):\n",
    "    pos = filename.rfind('.')\n",
    "    if 0 < pos < len(filename) - 1:\n",
    "        index = pos if has_dot else pos + 1\n",
    "        return filename[index:]\n",
    "    else:\n",
    "        return ''\n",
    "    \n",
    "if __name__ == '__main__':\n",
    "    print(get_suffix('abc.txt', has_dot=False))"
   ]
  },
  {
   "cell_type": "code",
   "execution_count": 4,
   "metadata": {},
   "outputs": [
    {
     "name": "stdout",
     "output_type": "stream",
     "text": [
      "(23, 12)\n"
     ]
    }
   ],
   "source": [
    "# Exercise 4\n",
    "def mm(a_list):\n",
    "    max1, max2 = (a_list[0], a_list[1]) if a_list[0] > a_list[1] else (a_list[1], a_list[0])\n",
    "    for i in range(2, len(a_list)):\n",
    "        if a_list[i] > max1:\n",
    "            max2 = max1\n",
    "            max1 = a_list[i]\n",
    "        elif a_list[i] > max2:\n",
    "            max2 = a_list[i]\n",
    "    return max1, max2\n",
    "\n",
    "if __name__ == '__main__':\n",
    "    print(mm([1, 3, 5, 12, 23]))"
   ]
  },
  {
   "cell_type": "code",
   "execution_count": 5,
   "metadata": {},
   "outputs": [
    {
     "name": "stdout",
     "output_type": "stream",
     "text": [
      "333\n",
      "365\n",
      "1\n",
      "61\n"
     ]
    }
   ],
   "source": [
    "# Exercise 5\n",
    "def is_leap_year(year):\n",
    "    return year % 4 == 0 and year % 100 != 0 or year % 400 == 0\n",
    "\n",
    "def which_day(year, month, date):\n",
    "    days_of_month = [[31, 28, 31, 30, 31, 30, 31, 31, 30, 31, 30, 31],\n",
    "                     [31, 29, 31, 30, 31, 30, 31, 31, 30, 31, 30, 31]][is_leap_year(year)]\n",
    "    total = 0\n",
    "    for index in range(month - 1):\n",
    "        total += days_of_month[index]\n",
    "    return total + date\n",
    "\n",
    "def main():\n",
    "    print(which_day(1980, 11, 28))\n",
    "    print(which_day(1981, 12, 31))\n",
    "    print(which_day(2018, 1, 1))\n",
    "    print(which_day(2016, 3, 1))\n",
    "\n",
    "\n",
    "if __name__ == '__main__':\n",
    "    main()"
   ]
  },
  {
   "cell_type": "code",
   "execution_count": 6,
   "metadata": {},
   "outputs": [
    {
     "name": "stdout",
     "output_type": "stream",
     "text": [
      "number of rows is 5\n",
      "1\t\n",
      "1\t1\t\n",
      "1\t2\t1\t\n",
      "1\t3\t3\t1\t\n",
      "1\t4\t6\t4\t1\t\n"
     ]
    }
   ],
   "source": [
    "# Exercise 6\n",
    "def main():\n",
    "    nrows = int(input('number of rows is '))\n",
    "    yh_tri = [[]] * nrows\n",
    "    for row in range(nrows):\n",
    "        yh_tri[row] = [1] * (row + 1)\n",
    "        for col in range(len(yh_tri[row])):\n",
    "            if col == 0 or col == row:\n",
    "                yh_tri[row][col] = 1\n",
    "            else:\n",
    "                yh_tri[row][col] = yh_tri[row - 1][col - 1] + yh_tri[row-1][col]\n",
    "            print(yh_tri[row][col], end='\\t')\n",
    "        print()\n",
    "\n",
    "if __name__ == '__main__':\n",
    "    main()"
   ]
  },
  {
   "cell_type": "code",
   "execution_count": 7,
   "metadata": {},
   "outputs": [
    {
     "name": "stdout",
     "output_type": "stream",
     "text": [
      "机选几注: 5\n",
      "03 08 11 19 25 31 | 05 \n",
      "06 10 16 18 28 31 | 05 \n",
      "03 05 06 07 08 10 | 03 \n",
      "01 05 07 18 22 26 | 16 \n",
      "04 10 15 20 23 32 | 16 \n"
     ]
    }
   ],
   "source": [
    "# Try the given example 1\n",
    "from random import randrange, randint, sample\n",
    "\n",
    "\n",
    "def display(balls):\n",
    "    \"\"\"\n",
    "    输出列表中的双色球号码\n",
    "    \"\"\"\n",
    "    for index, ball in enumerate(balls):\n",
    "        if index == len(balls) - 1:\n",
    "            print('|', end=' ')\n",
    "        print('%02d' % ball, end=' ')\n",
    "    print()\n",
    "\n",
    "\n",
    "def random_select():\n",
    "    \"\"\"\n",
    "    随机选择一组号码\n",
    "    \"\"\"\n",
    "    red_balls = [x for x in range(1, 34)]\n",
    "    selected_balls = []\n",
    "    selected_balls = sample(red_balls, 6)\n",
    "    selected_balls.sort()\n",
    "    selected_balls.append(randint(1, 16))\n",
    "    return selected_balls\n",
    "\n",
    "\n",
    "def main():\n",
    "    n = int(input('机选几注: '))\n",
    "    for _ in range(n):\n",
    "        display(random_select())\n",
    "\n",
    "\n",
    "if __name__ == '__main__':\n",
    "    main()"
   ]
  },
  {
   "cell_type": "code",
   "execution_count": 8,
   "metadata": {},
   "outputs": [
    {
     "name": "stdout",
     "output_type": "stream",
     "text": [
      "基基基基非非非非非基基非基基基非基非非基基非非非基非非基基非"
     ]
    }
   ],
   "source": [
    "# Try the given example 2\n",
    "# Josephus problem\n",
    "def main():\n",
    "    persons = [True] * 30\n",
    "    counter, index, number = 0, 0, 0\n",
    "    while counter < 15:\n",
    "        if persons[index]:\n",
    "            number += 1\n",
    "            if number == 9:\n",
    "                persons[index] = False\n",
    "                counter += 1\n",
    "                number = 0\n",
    "        index += 1\n",
    "        index %= 30\n",
    "    for person in persons:\n",
    "        print('基' if person else '非', end='')\n",
    "\n",
    "\n",
    "if __name__ == '__main__':\n",
    "    main()"
   ]
  },
  {
   "cell_type": "code",
   "execution_count": null,
   "metadata": {},
   "outputs": [
    {
     "name": "stdout",
     "output_type": "stream",
     "text": [
      " | | \n",
      "-+-+-\n",
      " | | \n",
      "-+-+-\n",
      " | | \n",
      "轮到x走棋, 请输入位置: BR\n",
      " | | \n",
      "-+-+-\n",
      " | | \n",
      "-+-+-\n",
      " | |x\n",
      "轮到o走棋, 请输入位置: MM\n",
      " | | \n",
      "-+-+-\n",
      " |o| \n",
      "-+-+-\n",
      " | |x\n"
     ]
    }
   ],
   "source": [
    "# Try the given example 3\n",
    "import os\n",
    "\n",
    "\n",
    "def print_board(board):\n",
    "    print(board['TL'] + '|' + board['TM'] + '|' + board['TR'])\n",
    "    print('-+-+-')\n",
    "    print(board['ML'] + '|' + board['MM'] + '|' + board['MR'])\n",
    "    print('-+-+-')\n",
    "    print(board['BL'] + '|' + board['BM'] + '|' + board['BR'])\n",
    "\n",
    "\n",
    "def main():\n",
    "    init_board = {\n",
    "        'TL': ' ', 'TM': ' ', 'TR': ' ',\n",
    "        'ML': ' ', 'MM': ' ', 'MR': ' ',\n",
    "        'BL': ' ', 'BM': ' ', 'BR': ' '\n",
    "    }\n",
    "    begin = True\n",
    "    while begin:\n",
    "        curr_board = init_board.copy()\n",
    "        begin = False\n",
    "        turn = 'x'\n",
    "        counter = 0\n",
    "        os.system('clear')\n",
    "        print_board(curr_board)\n",
    "        while counter < 9:\n",
    "            move = input('轮到%s走棋, 请输入位置: ' % turn)\n",
    "            if curr_board[move] == ' ':\n",
    "                counter += 1\n",
    "                curr_board[move] = turn\n",
    "                if turn == 'x':\n",
    "                    turn = 'o'\n",
    "                else:\n",
    "                    turn = 'x'\n",
    "            os.system('clear')\n",
    "            print_board(curr_board)\n",
    "        choice = input('再玩一局?(yes|no)')\n",
    "        begin = choice == 'yes'\n",
    "\n",
    "\n",
    "if __name__ == '__main__':\n",
    "    main()"
   ]
  }
 ],
 "metadata": {
  "kernelspec": {
   "display_name": "Python 3",
   "language": "python",
   "name": "python3"
  },
  "language_info": {
   "codemirror_mode": {
    "name": "ipython",
    "version": 3
   },
   "file_extension": ".py",
   "mimetype": "text/x-python",
   "name": "python",
   "nbconvert_exporter": "python",
   "pygments_lexer": "ipython3",
   "version": "3.7.6"
  }
 },
 "nbformat": 4,
 "nbformat_minor": 2
}
