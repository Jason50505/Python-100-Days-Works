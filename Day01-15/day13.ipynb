{
 "cells": [
  {
   "cell_type": "code",
   "execution_count": 1,
   "metadata": {
    "scrolled": true
   },
   "outputs": [
    {
     "name": "stdout",
     "output_type": "stream",
     "text": [
      "PID is 8028.\n",
      "time for aaa is 2 s.\n",
      "PID is 8028.\n",
      "time for bbb is 3 s.\n",
      "total time is 5.00 s.\n",
      "13188\n",
      "16108\n",
      "total time is 0.12 s.\n"
     ]
    }
   ],
   "source": [
    "# Effect of multiprocessing\n",
    "\n",
    "import random\n",
    "import time\n",
    "from multiprocessing import Process\n",
    "from os import getpid\n",
    "\n",
    "def count_time(a_str):\n",
    "    time_elapse = random.randint(1, 5)\n",
    "    print('PID is %d.' % getpid())\n",
    "    time.sleep(time_elapse)\n",
    "    print('time for %s is %d s.' % (a_str, time_elapse))\n",
    "    \n",
    "def main():\n",
    "    t0 = time.time()\n",
    "    count_time('aaa')\n",
    "    count_time('bbb')\n",
    "    print('total time is %.2f s.' % (time.time() - t0))\n",
    "          \n",
    "# Multiprocessing\n",
    "def main_multi():\n",
    "    t0 = time.time()\n",
    "    p1 = Process(target=count_time, args=('aaa', ))\n",
    "    p2 = Process(target=count_time, args=('bbb', ))\n",
    "    p1.start()\n",
    "    p2.start()\n",
    "    p1.join()\n",
    "    p2.join()\n",
    "    print(p1.pid)\n",
    "    print(p2.pid)\n",
    "    print('total time is %.2f s.' % (time.time() - t0))\n",
    "\n",
    "if __name__ == '__main__':\n",
    "    main()\n",
    "    main_multi()"
   ]
  },
  {
   "cell_type": "code",
   "execution_count": 2,
   "metadata": {},
   "outputs": [],
   "source": [
    "# Try the example 2\n",
    "from multiprocessing import Process\n",
    "from time import sleep\n",
    "\n",
    "counter = 0\n",
    "\n",
    "\n",
    "def sub_task(string):\n",
    "    global counter\n",
    "    while counter < 10:\n",
    "        print(string, end='', flush=True)\n",
    "        counter += 1\n",
    "        sleep(0.01)\n",
    "\n",
    "\n",
    "# Have a counter variable in each sub-process\n",
    "# 10 'Ping' and 10 'Pong'\n",
    "# Use Queue\n",
    "\n",
    "def main():\n",
    "    Process(target=sub_task, args=('Ping', )).start()\n",
    "    Process(target=sub_task, args=('Pong', )).start()\n",
    "\n",
    "if __name__ == '__main__':\n",
    "    main()"
   ]
  },
  {
   "cell_type": "code",
   "execution_count": 3,
   "metadata": {},
   "outputs": [
    {
     "name": "stdout",
     "output_type": "stream",
     "text": [
      "PID is 8028.\n",
      "PID is 8028.\n",
      "time for aaa is 1 s.\n",
      "time for bbb is 2 s.\n",
      "total time is 2.01 s.\n"
     ]
    }
   ],
   "source": [
    "# Effect of multithreading\n",
    "\n",
    "import random\n",
    "import time\n",
    "from threading import Thread\n",
    "from os import getpid\n",
    "\n",
    "# Define a class inherited from Thread\n",
    "class count_time(Thread):\n",
    "    def __init__(self, a_str):\n",
    "        super().__init__()\n",
    "        self._name = a_str\n",
    "    \n",
    "    def run(self):\n",
    "        time_elapse = random.randint(1, 5)\n",
    "        print('PID is %d.' % getpid())\n",
    "        time.sleep(time_elapse)\n",
    "        print('time for %s is %d s.' % (self._name, time_elapse))\n",
    "\n",
    "# Multithreading\n",
    "def main():\n",
    "    t0 = time.time()\n",
    "    t1 = count_time('aaa')\n",
    "    t2 = count_time('bbb')\n",
    "    t1.start()\n",
    "    t2.start()\n",
    "    t1.join()\n",
    "    t2.join()\n",
    "    print('total time is %.2f s.' % (time.time() - t0))\n",
    "    \n",
    "if __name__ == '__main__':\n",
    "    main()"
   ]
  },
  {
   "cell_type": "code",
   "execution_count": 4,
   "metadata": {},
   "outputs": [
    {
     "name": "stdout",
     "output_type": "stream",
     "text": [
      "total money in the account is 100.\n"
     ]
    }
   ],
   "source": [
    "# Use of Lock in multithreading\n",
    "import time\n",
    "from threading import Thread, Lock\n",
    "\n",
    "class Account(object):\n",
    "    def __init__(self):\n",
    "        self._balance = 0\n",
    "        self._lock = Lock()\n",
    "        \n",
    "    def deposit(self, money):\n",
    "        # Once a thread has acquired it, subsequent attempts to acquire it block, until it is released\n",
    "        self._lock.acquire()\n",
    "        try:\n",
    "            new_balance = self._balance + money\n",
    "            time.sleep(0.001)\n",
    "            self._balance = new_balance\n",
    "        # Make sure released in the finally block\n",
    "        finally:\n",
    "            self._lock.release()\n",
    "    \n",
    "    @property\n",
    "    def balance(self):\n",
    "        return self._balance\n",
    "    \n",
    "class deposit_threads(Thread):\n",
    "    def __init__(self, account, money):\n",
    "        super().__init__()\n",
    "        self._account = account\n",
    "        self._money = money\n",
    "    \n",
    "    def run(self):\n",
    "        self._account.deposit(self._money)\n",
    "        \n",
    "def main():\n",
    "    account = Account()\n",
    "    threads = []\n",
    "    for i in range(100):\n",
    "        t = deposit_threads(account, 1)\n",
    "        threads.append(t)\n",
    "        t.start()\n",
    "    for t in threads:\n",
    "        t.join()\n",
    "    print('total money in the account is %d.' % account.balance)\n",
    "    \n",
    "if __name__ == '__main__':\n",
    "    main()"
   ]
  }
 ],
 "metadata": {
  "kernelspec": {
   "display_name": "Python 3",
   "language": "python",
   "name": "python3"
  },
  "language_info": {
   "codemirror_mode": {
    "name": "ipython",
    "version": 3
   },
   "file_extension": ".py",
   "mimetype": "text/x-python",
   "name": "python",
   "nbconvert_exporter": "python",
   "pygments_lexer": "ipython3",
   "version": "3.7.6"
  }
 },
 "nbformat": 4,
 "nbformat_minor": 4
}
