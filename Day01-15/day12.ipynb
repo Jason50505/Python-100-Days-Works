{
 "cells": [
  {
   "cell_type": "code",
   "execution_count": 1,
   "metadata": {},
   "outputs": [
    {
     "name": "stdout",
     "output_type": "stream",
     "text": [
      "enter the username: chziha\n",
      "enter the qq name: 038301176\n",
      "Try another qq name.\n"
     ]
    }
   ],
   "source": [
    "# Try the example 1\n",
    "# Check if the user name follows the rule:\n",
    "# only a-Z, 0-9, _, between 6-20 characters\n",
    "# and if the QQ name follows the rule:\n",
    "# only 0-9, between 5-12 characters, not starting with 0\n",
    "\n",
    "import re\n",
    "\n",
    "def is_username_qq():\n",
    "    username = input('enter the username: ')\n",
    "    qq = input('enter the qq name: ')\n",
    "    match1 = re.fullmatch(r'[0-9a-zA-Z-]{6,20}', username)\n",
    "    match2 = re.fullmatch(r'^[1-9][0-9]{4,11}', qq)\n",
    "    if not match1:\n",
    "        print('Try another user name.')\n",
    "    if not match2:\n",
    "        print('Try another qq name.')\n",
    "        \n",
    "if __name__ == '__main__':\n",
    "    is_username_qq()"
   ]
  },
  {
   "cell_type": "code",
   "execution_count": 2,
   "metadata": {},
   "outputs": [
    {
     "name": "stdout",
     "output_type": "stream",
     "text": [
      "13512346789\n",
      "15600998765\n",
      "15600998765\n"
     ]
    }
   ],
   "source": [
    "# Try the example 2\n",
    "import re\n",
    "\n",
    "def capture_phone_number():\n",
    "    pattern = re.compile(r'(?<=\\D)1[34578]\\d{9}(?=\\D)')\n",
    "    example = '''\n",
    "    重要的事情说8130123456789遍，我的手机号是13512346789这个靓号，\n",
    "    不是15600998765，也是110或119，王大锤的手机号才是15600998765。\n",
    "    '''\n",
    "    for match in re.finditer(pattern, example):\n",
    "        print(match.group())\n",
    "        \n",
    "if __name__ == '__main__':\n",
    "    capture_phone_number()"
   ]
  },
  {
   "cell_type": "code",
   "execution_count": 3,
   "metadata": {},
   "outputs": [
    {
     "name": "stdout",
     "output_type": "stream",
     "text": [
      "13512346789\n",
      "15600998765\n",
      "15600998765\n"
     ]
    }
   ],
   "source": [
    "# Example 2\n",
    "import re\n",
    "\n",
    "def capture_phone_number():\n",
    "    pattern = re.compile(r'(?<=\\D)1[34578]\\d{9}(?=\\D)')\n",
    "    example = '''\n",
    "    重要的事情说8130123456789遍，我的手机号是13512346789这个靓号，\n",
    "    不是15600998765，也是110或119，王大锤的手机号才是15600998765。\n",
    "    '''\n",
    "    for m in re.findall(pattern, example):\n",
    "        print(m) \n",
    "        \n",
    "if __name__ == '__main__':\n",
    "    capture_phone_number()"
   ]
  },
  {
   "cell_type": "code",
   "execution_count": 4,
   "metadata": {},
   "outputs": [
    {
     "name": "stdout",
     "output_type": "stream",
     "text": [
      "13512346789\n",
      "15600998765\n",
      "15600998765\n"
     ]
    }
   ],
   "source": [
    "# Example 2\n",
    "import re\n",
    "\n",
    "def capture_phone_number():\n",
    "    pattern = re.compile(r'(?<=\\D)1[34578]\\d{9}(?=\\D)')\n",
    "    example = '''\n",
    "    重要的事情说8130123456789遍，我的手机号是13512346789这个靓号，\n",
    "    不是15600998765，也是110或119，王大锤的手机号才是15600998765。\n",
    "    '''\n",
    "    m = re.search(pattern, example)\n",
    "    while m:\n",
    "        print(m.group())\n",
    "        m = pattern.search(example, m.end()) # m.end() returns index of the end of the substring matched by group\n",
    "        \n",
    "if __name__ == '__main__':\n",
    "    capture_phone_number()"
   ]
  },
  {
   "cell_type": "code",
   "execution_count": 5,
   "metadata": {},
   "outputs": [
    {
     "name": "stdout",
     "output_type": "stream",
     "text": [
      "***defg***kL*****rstuvwxy*\n"
     ]
    }
   ],
   "source": [
    "# Try the example 3\n",
    "# Replace\n",
    "\n",
    "import re\n",
    "\n",
    "\n",
    "def replace_with_asterisk():\n",
    "    example = 'abCdefghIjkLmnopqrstuvwxyZ'\n",
    "    replaced = re.sub('[abc]|h|i|j|[mnopq]|z',\n",
    "                      '*', example, flags=re.IGNORECASE)\n",
    "    print(replaced)\n",
    "\n",
    "\n",
    "if __name__ == '__main__':\n",
    "    replace_with_asterisk()"
   ]
  },
  {
   "cell_type": "code",
   "execution_count": 6,
   "metadata": {},
   "outputs": [
    {
     "name": "stdout",
     "output_type": "stream",
     "text": [
      "床前明月光\n",
      "疑是地上霜\n",
      "举头望明月\n",
      "低头思故乡\n",
      "\n"
     ]
    }
   ],
   "source": [
    "# Try the example 4\n",
    "# Split\n",
    "\n",
    "import re\n",
    "\n",
    "def split_poem_sentence():\n",
    "    poem = '床前明月光，疑是地上霜。举头望明月，低头思故乡。'\n",
    "    sentences = re.split(r'[，。, .]', poem)\n",
    "    for s in sentences:\n",
    "        print(s)\n",
    "\n",
    "if __name__ == '__main__':\n",
    "    split_poem_sentence()"
   ]
  }
 ],
 "metadata": {
  "kernelspec": {
   "display_name": "Python 3",
   "language": "python",
   "name": "python3"
  },
  "language_info": {
   "codemirror_mode": {
    "name": "ipython",
    "version": 3
   },
   "file_extension": ".py",
   "mimetype": "text/x-python",
   "name": "python",
   "nbconvert_exporter": "python",
   "pygments_lexer": "ipython3",
   "version": "3.7.6"
  }
 },
 "nbformat": 4,
 "nbformat_minor": 4
}
