{
 "cells": [
  {
   "cell_type": "code",
   "execution_count": null,
   "metadata": {},
   "outputs": [],
   "source": [
    "# Try the example of using socket\n",
    "from socket import socket, SOCK_STREAM, AF_INET\n",
    "from datetime import datetime\n",
    "\n",
    "\n",
    "def main():\n",
    "    # 1.创建套接字对象并指定使用哪种传输服务\n",
    "    # family=AF_INET - IPv4地址\n",
    "    # family=AF_INET6 - IPv6地址\n",
    "    # type=SOCK_STREAM - TCP套接字\n",
    "    # type=SOCK_DGRAM - UDP套接字\n",
    "    # type=SOCK_RAW - 原始套接字\n",
    "    server = socket(family=AF_INET, type=SOCK_STREAM)\n",
    "    # 2.绑定IP地址和端口(端口用于区分不同的服务)\n",
    "    # 同一时间在同一个端口上只能绑定一个服务否则报错\n",
    "    server.bind(('192.168.1.2', 6789))\n",
    "    # 3.开启监听 - 监听客户端连接到服务器\n",
    "    # 参数512可以理解为连接队列的大小\n",
    "    server.listen(512)\n",
    "    print('服务器启动开始监听...')\n",
    "    while True:\n",
    "        # 4.通过循环接收客户端的连接并作出相应的处理(提供服务)\n",
    "        # accept方法是一个阻塞方法如果没有客户端连接到服务器代码不会向下执行\n",
    "        # accept方法返回一个元组其中的第一个元素是客户端对象\n",
    "        # 第二个元素是连接到服务器的客户端的地址(由IP和端口两部分构成)\n",
    "        client, addr = server.accept()\n",
    "        print(str(addr) + '连接到了服务器.')\n",
    "        # 5.发送数据\n",
    "        client.send(str(datetime.now()).encode('utf-8'))\n",
    "        # 6.断开连接\n",
    "        client.close()\n",
    "\n",
    "if __name__ == '__main__':\n",
    "    main()"
   ]
  }
 ],
 "metadata": {
  "kernelspec": {
   "display_name": "Python 3",
   "language": "python",
   "name": "python3"
  },
  "language_info": {
   "codemirror_mode": {
    "name": "ipython",
    "version": 3
   },
   "file_extension": ".py",
   "mimetype": "text/x-python",
   "name": "python",
   "nbconvert_exporter": "python",
   "pygments_lexer": "ipython3",
   "version": "3.7.6"
  }
 },
 "nbformat": 4,
 "nbformat_minor": 4
}
